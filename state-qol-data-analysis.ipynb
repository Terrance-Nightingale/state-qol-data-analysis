{
 "cells": [
  {
   "cell_type": "markdown",
   "metadata": {},
   "source": [
    "<h1>Cost and Quality of Life per State</h1>"
   ]
  },
  {
   "cell_type": "code",
   "execution_count": 109,
   "metadata": {},
   "outputs": [],
   "source": [
    "import pandas as pd\n",
    "import numpy as np\n",
    "import matplotlib.pyplot as plt\n"
   ]
  },
  {
   "cell_type": "code",
   "execution_count": 146,
   "metadata": {},
   "outputs": [],
   "source": [
    "#Read CSV data\n",
    "income_df = pd.read_csv('per-capita-income.csv', skiprows=[0,1,2], index_col=False)\n",
    "healthcare_df = pd.read_csv('healthcare-expenditures.csv', index_col=False)\n"
   ]
  },
  {
   "cell_type": "markdown",
   "metadata": {},
   "source": [
    "<h2>Clean up CSV Data</h2>"
   ]
  },
  {
   "cell_type": "code",
   "execution_count": null,
   "metadata": {},
   "outputs": [],
   "source": []
  },
  {
   "cell_type": "code",
   "execution_count": 147,
   "metadata": {},
   "outputs": [],
   "source": [
    "# Income per Capita: drop NA values and remove GeoFips column\n",
    "income_df = income_df.drop('GeoFips', axis='columns')\n",
    "income_df = income_df.dropna()"
   ]
  },
  {
   "cell_type": "code",
   "execution_count": 155,
   "metadata": {},
   "outputs": [],
   "source": [
    "# Create list of all the years with columns\n",
    "years = []\n",
    "\n",
    "for col in income_df.columns:\n",
    "    if col != 'GeoName':\n",
    "        years.append(col)"
   ]
  },
  {
   "cell_type": "code",
   "execution_count": 170,
   "metadata": {},
   "outputs": [
    {
     "data": {
      "text/html": [
       "<div>\n",
       "<style scoped>\n",
       "    .dataframe tbody tr th:only-of-type {\n",
       "        vertical-align: middle;\n",
       "    }\n",
       "\n",
       "    .dataframe tbody tr th {\n",
       "        vertical-align: top;\n",
       "    }\n",
       "\n",
       "    .dataframe thead th {\n",
       "        text-align: right;\n",
       "    }\n",
       "</style>\n",
       "<table border=\"1\" class=\"dataframe\">\n",
       "  <thead>\n",
       "    <tr style=\"text-align: right;\">\n",
       "      <th></th>\n",
       "      <th>State</th>\n",
       "      <th>Year</th>\n",
       "      <th>Avg_Income</th>\n",
       "    </tr>\n",
       "  </thead>\n",
       "  <tbody>\n",
       "    <tr>\n",
       "      <th>0</th>\n",
       "      <td>United States</td>\n",
       "      <td>1998</td>\n",
       "      <td>27493.0</td>\n",
       "    </tr>\n",
       "    <tr>\n",
       "      <th>1</th>\n",
       "      <td>Alabama</td>\n",
       "      <td>1998</td>\n",
       "      <td>22651.0</td>\n",
       "    </tr>\n",
       "    <tr>\n",
       "      <th>2</th>\n",
       "      <td>Alaska</td>\n",
       "      <td>1998</td>\n",
       "      <td>29287.0</td>\n",
       "    </tr>\n",
       "    <tr>\n",
       "      <th>3</th>\n",
       "      <td>Arizona</td>\n",
       "      <td>1998</td>\n",
       "      <td>24130.0</td>\n",
       "    </tr>\n",
       "    <tr>\n",
       "      <th>4</th>\n",
       "      <td>Arkansas</td>\n",
       "      <td>1998</td>\n",
       "      <td>21203.0</td>\n",
       "    </tr>\n",
       "    <tr>\n",
       "      <th>...</th>\n",
       "      <td>...</td>\n",
       "      <td>...</td>\n",
       "      <td>...</td>\n",
       "    </tr>\n",
       "    <tr>\n",
       "      <th>1295</th>\n",
       "      <td>Virginia</td>\n",
       "      <td>2022</td>\n",
       "      <td>68985.0</td>\n",
       "    </tr>\n",
       "    <tr>\n",
       "      <th>1296</th>\n",
       "      <td>Washington</td>\n",
       "      <td>2022</td>\n",
       "      <td>75332.0</td>\n",
       "    </tr>\n",
       "    <tr>\n",
       "      <th>1297</th>\n",
       "      <td>West Virginia</td>\n",
       "      <td>2022</td>\n",
       "      <td>49993.0</td>\n",
       "    </tr>\n",
       "    <tr>\n",
       "      <th>1298</th>\n",
       "      <td>Wisconsin</td>\n",
       "      <td>2022</td>\n",
       "      <td>61475.0</td>\n",
       "    </tr>\n",
       "    <tr>\n",
       "      <th>1299</th>\n",
       "      <td>Wyoming</td>\n",
       "      <td>2022</td>\n",
       "      <td>73248.0</td>\n",
       "    </tr>\n",
       "  </tbody>\n",
       "</table>\n",
       "<p>1300 rows × 3 columns</p>\n",
       "</div>"
      ],
      "text/plain": [
       "              State  Year  Avg_Income\n",
       "0     United States  1998     27493.0\n",
       "1           Alabama  1998     22651.0\n",
       "2            Alaska  1998     29287.0\n",
       "3           Arizona  1998     24130.0\n",
       "4          Arkansas  1998     21203.0\n",
       "...             ...   ...         ...\n",
       "1295       Virginia  2022     68985.0\n",
       "1296     Washington  2022     75332.0\n",
       "1297  West Virginia  2022     49993.0\n",
       "1298      Wisconsin  2022     61475.0\n",
       "1299        Wyoming  2022     73248.0\n",
       "\n",
       "[1300 rows x 3 columns]"
      ]
     },
     "execution_count": 170,
     "metadata": {},
     "output_type": "execute_result"
    }
   ],
   "source": [
    "# Melt dataframe so that the years are all in a single column\n",
    "melted_df = income_df.melt(id_vars=['GeoName'], \n",
    "               value_vars=years,\n",
    "               var_name='Year',\n",
    "               value_name='Avg_Income')\n",
    "\n",
    "# Rename column 'GeoName' to 'State'\n",
    "melted_df.rename(columns={'GeoName': 'State'}, inplace=True)\n",
    "melted_df"
   ]
  },
  {
   "cell_type": "code",
   "execution_count": null,
   "metadata": {},
   "outputs": [],
   "source": []
  },
  {
   "cell_type": "code",
   "execution_count": 65,
   "metadata": {},
   "outputs": [
    {
     "name": "stdout",
     "output_type": "stream",
     "text": [
      "    NATIONAL HEALTH EXPENDITURES BY TYPE OF SERVICE AND SOURCE OF FUNDS:  CALENDAR YEARS 1960 to 2022  \\\n",
      "0                        Expenditure Amount (Millions)                                                  \n",
      "1                   Total National Health Expenditures                                                  \n",
      "2                                        Out of pocket                                                  \n",
      "3                                     Health Insurance                                                  \n",
      "4                             Private Health Insurance                                                  \n",
      "..                                                 ...                                                  \n",
      "539                              State and Local Gov't                                                  \n",
      "540  * Other Federal Programs include OEO, Federal ...                                                  \n",
      "541  ** Other State and Local Programs include Stat...                                                  \n",
      "542  NOTE: Numbers may not add to totals due to rou...                                                  \n",
      "543  SOURCE:  Centers for Medicare & Medicaid Servi...                                                  \n",
      "\n",
      "    Unnamed: 1 Unnamed: 2 Unnamed: 3 Unnamed: 4 Unnamed: 5 Unnamed: 6  \\\n",
      "0         1960       1961       1962       1963       1964       1965   \n",
      "1       27,122     29,060     31,765     34,558     38,245     41,627   \n",
      "2       12,778     13,193     14,085     15,171     16,669     17,863   \n",
      "3        7,324      8,043      8,785      9,660     10,710     11,722   \n",
      "4        5,639      6,275      6,963      7,720      8,791      9,772   \n",
      "..         ...        ...        ...        ...        ...        ...   \n",
      "539         54         55         63         79         87         98   \n",
      "540        NaN        NaN        NaN        NaN        NaN        NaN   \n",
      "541        NaN        NaN        NaN        NaN        NaN        NaN   \n",
      "542        NaN        NaN        NaN        NaN        NaN        NaN   \n",
      "543        NaN        NaN        NaN        NaN        NaN        NaN   \n",
      "\n",
      "    Unnamed: 7 Unnamed: 8 Unnamed: 9  ... Unnamed: 54 Unnamed: 55 Unnamed: 56  \\\n",
      "0         1966       1967       1968  ...        2013        2014        2015   \n",
      "1       45,752     51,186     58,015  ...   2,855,701   3,001,736   3,163,761   \n",
      "2       18,132     17,985     19,951  ...     330,733     340,394     352,709   \n",
      "3       15,357     20,789     24,010  ...   2,018,886   2,150,633   2,288,258   \n",
      "4        9,980     10,132     11,462  ...     879,131     922,556     976,502   \n",
      "..         ...        ...        ...  ...         ...         ...         ...   \n",
      "539        130        149        159  ...       9,609       9,924      10,233   \n",
      "540        NaN        NaN        NaN  ...         NaN         NaN         NaN   \n",
      "541        NaN        NaN        NaN  ...         NaN         NaN         NaN   \n",
      "542        NaN        NaN        NaN  ...         NaN         NaN         NaN   \n",
      "543        NaN        NaN        NaN  ...         NaN         NaN         NaN   \n",
      "\n",
      "    Unnamed: 57 Unnamed: 58 Unnamed: 59 Unnamed: 60 Unnamed: 61 Unnamed: 62  \\\n",
      "0          2016        2017        2018        2019        2020        2021   \n",
      "1     3,305,345   3,443,653   3,601,214   3,756,368   4,156,315   4,289,122   \n",
      "2       364,608     370,046     385,725     402,334     398,279     442,154   \n",
      "3     2,396,257   2,495,747   2,611,015   2,718,028   2,807,404   3,011,769   \n",
      "4     1,030,101   1,080,185   1,128,344   1,155,725   1,146,153   1,218,274   \n",
      "..          ...         ...         ...         ...         ...         ...   \n",
      "539      10,697      10,868      11,515      11,589      12,250      13,073   \n",
      "540         NaN         NaN         NaN         NaN         NaN         NaN   \n",
      "541         NaN         NaN         NaN         NaN         NaN         NaN   \n",
      "542         NaN         NaN         NaN         NaN         NaN         NaN   \n",
      "543         NaN         NaN         NaN         NaN         NaN         NaN   \n",
      "\n",
      "    Unnamed: 63  \n",
      "0          2022  \n",
      "1     4,464,573  \n",
      "2       471,357  \n",
      "3     3,211,472  \n",
      "4     1,289,806  \n",
      "..          ...  \n",
      "539      13,819  \n",
      "540         NaN  \n",
      "541         NaN  \n",
      "542         NaN  \n",
      "543         NaN  \n",
      "\n",
      "[544 rows x 64 columns]\n"
     ]
    }
   ],
   "source": [
    "# Healthcare Expenditures: replace NA values with mean and remove Regions data\n",
    "healthcare_df = pd.read_csv('healthcare-expenditures.csv', index_col=False)\n",
    "print(healthcare_df)"
   ]
  },
  {
   "cell_type": "code",
   "execution_count": null,
   "metadata": {},
   "outputs": [],
   "source": []
  },
  {
   "cell_type": "code",
   "execution_count": null,
   "metadata": {},
   "outputs": [],
   "source": []
  },
  {
   "cell_type": "code",
   "execution_count": null,
   "metadata": {},
   "outputs": [],
   "source": []
  },
  {
   "cell_type": "code",
   "execution_count": null,
   "metadata": {},
   "outputs": [],
   "source": []
  },
  {
   "cell_type": "code",
   "execution_count": null,
   "metadata": {},
   "outputs": [],
   "source": []
  },
  {
   "cell_type": "code",
   "execution_count": null,
   "metadata": {},
   "outputs": [],
   "source": []
  }
 ],
 "metadata": {
  "kernelspec": {
   "display_name": "base",
   "language": "python",
   "name": "python3"
  },
  "language_info": {
   "codemirror_mode": {
    "name": "ipython",
    "version": 3
   },
   "file_extension": ".py",
   "mimetype": "text/x-python",
   "name": "python",
   "nbconvert_exporter": "python",
   "pygments_lexer": "ipython3",
   "version": "3.10.9"
  }
 },
 "nbformat": 4,
 "nbformat_minor": 2
}
